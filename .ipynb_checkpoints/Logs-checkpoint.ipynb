{
 "cells": [
  {
   "cell_type": "markdown",
   "metadata": {},
   "source": [
    "## Importaçõees necessárias"
   ]
  },
  {
   "cell_type": "code",
   "execution_count": 1,
   "metadata": {},
   "outputs": [],
   "source": [
    "import matplotlib.pyplot as plt\n",
    "import seaborn as sns\n",
    "import pandas as pd\n",
    "import numpy as np"
   ]
  },
  {
   "cell_type": "markdown",
   "metadata": {},
   "source": [
    "## Realizando a leitura dos dados"
   ]
  },
  {
   "cell_type": "code",
   "execution_count": 5,
   "metadata": {},
   "outputs": [
    {
     "data": {
      "text/html": [
       "<div>\n",
       "<style scoped>\n",
       "    .dataframe tbody tr th:only-of-type {\n",
       "        vertical-align: middle;\n",
       "    }\n",
       "\n",
       "    .dataframe tbody tr th {\n",
       "        vertical-align: top;\n",
       "    }\n",
       "\n",
       "    .dataframe thead th {\n",
       "        text-align: right;\n",
       "    }\n",
       "</style>\n",
       "<table border=\"1\" class=\"dataframe\">\n",
       "  <thead>\n",
       "    <tr style=\"text-align: right;\">\n",
       "      <th></th>\n",
       "      <th>number_truck</th>\n",
       "      <th>total_cart</th>\n",
       "      <th>cart_recognition</th>\n",
       "      <th>day</th>\n",
       "      <th>hour</th>\n",
       "    </tr>\n",
       "  </thead>\n",
       "  <tbody>\n",
       "    <tr>\n",
       "      <th>0</th>\n",
       "      <td>123</td>\n",
       "      <td>4</td>\n",
       "      <td>1</td>\n",
       "      <td>10/03/20</td>\n",
       "      <td>08:56:52</td>\n",
       "    </tr>\n",
       "  </tbody>\n",
       "</table>\n",
       "</div>"
      ],
      "text/plain": [
       "   number_truck  total_cart  cart_recognition       day      hour\n",
       "0           123           4                 1  10/03/20  08:56:52"
      ]
     },
     "execution_count": 5,
     "metadata": {},
     "output_type": "execute_result"
    }
   ],
   "source": [
    "df = pd.read_csv('logs.csv')\n",
    "\n",
    "day = list()\n",
    "hour = list()\n",
    "\n",
    "for h in df['day']:\n",
    "    \n",
    "    day.append(h.split('-')[0])\n",
    "    hour.append(h.split('-')[1])\n",
    "\n",
    "df['hour'] = hour  \n",
    "df['day'] = day\n",
    "    \n",
    "    \n",
    "df.head()\n",
    "    "
   ]
  },
  {
   "cell_type": "markdown",
   "metadata": {},
   "source": [
    "## Logs Caminhão\n",
    "\n",
    "Identificados vs Não identificados"
   ]
  },
  {
   "cell_type": "code",
   "execution_count": 10,
   "metadata": {
    "scrolled": true
   },
   "outputs": [
    {
     "data": {
      "image/png": "[encoded data removed]",
      "text/plain": [
       "<Figure size 432x288 with 1 Axes>"
      ]
     },
     "metadata": {},
     "output_type": "display_data"
    }
   ],
   "source": [
    "labels = 'Identificado', 'Não identificado'\n",
    "\n",
    "sIdentificado = df['truck'].where(df['truck'] == 1).count() \n",
    "nIdentificado = df['truck'].where(df['truck'] == 0).count()\n",
    "\n",
    "truck = [sIdentificado, nIdentificado]\n",
    "  \n",
    "fig, ax = plt.subplots()\n",
    "\n",
    "ax.pie(truck, labels=labels, autopct='%1.1f%%', shadow=True, startangle=90)\n",
    "ax.axis('equal')  \n",
    "plt.title('Gráfico: Identificado vs Não Identificado')\n",
    "plt.show()"
   ]
  },
  {
   "cell_type": "code",
   "execution_count": 6,
   "metadata": {},
   "outputs": [
    {
     "name": "stdout",
     "output_type": "stream",
     "text": [
      "De 3 comandos, foram identificados: 1 caminhões.\n"
     ]
    }
   ],
   "source": [
    "print('De {} comandos, foram identificados: {} caminhões.'.format(df['truck'].count(), sIdentificado))"
   ]
  },
  {
   "cell_type": "markdown",
   "metadata": {},
   "source": [
    "### Logs Carreta"
   ]
  },
  {
   "cell_type": "code",
   "execution_count": 7,
   "metadata": {},
   "outputs": [
    {
     "name": "stdout",
     "output_type": "stream",
     "text": [
      "Tivemos uma média de 2 carretas reconhecidas por caminhão.\n"
     ]
    }
   ],
   "source": [
    "print('Tivemos uma média de {} carretas reconhecidas por caminhão.'.format(int(round(df['cart'].mean(),0))))"
   ]
  },
  {
   "cell_type": "code",
   "execution_count": null,
   "metadata": {},
   "outputs": [],
   "source": []
  }
 ],
 "metadata": {
  "kernelspec": {
   "display_name": "Python 3",
   "language": "python",
   "name": "python3"
  },
  "language_info": {
   "codemirror_mode": {
    "name": "ipython",
    "version": 3
   },
   "file_extension": ".py",
   "mimetype": "text/x-python",
   "name": "python",
   "nbconvert_exporter": "python",
   "pygments_lexer": "ipython3",
   "version": "3.6.10"
  }
 },
 "nbformat": 4,
 "nbformat_minor": 2
}
